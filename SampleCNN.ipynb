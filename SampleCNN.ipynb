{
  "nbformat": 4,
  "nbformat_minor": 0,
  "metadata": {
    "kernelspec": {
      "name": "python3",
      "display_name": "Python 3"
    },
    "language_info": {
      "codemirror_mode": {
        "name": "ipython",
        "version": 3
      },
      "file_extension": ".py",
      "mimetype": "text/x-python",
      "name": "python",
      "nbconvert_exporter": "python",
      "pygments_lexer": "ipython3",
      "version": "3.7.4"
    },
    "colab": {
      "name": "SampleCNN.ipynb",
      "provenance": []
    },
    "accelerator": "GPU"
  },
  "cells": [
    {
      "cell_type": "code",
      "metadata": {
        "id": "c8L5AGqASfGX",
        "colab_type": "code",
        "outputId": "d90feafa-1bc6-44f9-d497-0642fa64ac55",
        "colab": {
          "base_uri": "https://localhost:8080/",
          "height": 35
        }
      },
      "source": [
        "import pandas as pd\n",
        "import numpy as np\n",
        "\n",
        "import torch\n",
        "import torch.nn as nn\n",
        "\n",
        "import matplotlib.pyplot as plt\n",
        "\n",
        "import nets\n",
        "import pipeline\n",
        "import importlib\n",
        "importlib.reload(pipeline)\n",
        "importlib.reload(nets)"
      ],
      "execution_count": 3,
      "outputs": [
        {
          "output_type": "execute_result",
          "data": {
            "text/plain": [
              "<module 'nets' from '/content/nets.py'>"
            ]
          },
          "metadata": {
            "tags": []
          },
          "execution_count": 3
        }
      ]
    },
    {
      "cell_type": "code",
      "metadata": {
        "id": "CshVJ1n1SfGc",
        "colab_type": "code",
        "outputId": "30156949-dcf3-4a89-9651-99e3dffb7b3b",
        "colab": {
          "base_uri": "https://localhost:8080/",
          "height": 123
        }
      },
      "source": [
        "start_width = 1\n",
        "end_width = 30\n",
        "train_size = 15000\n",
        "test_size = 5000\n",
        "epochs = 1000\n",
        "\n",
        "p_noise = 0.2/0.9\n",
        "\n",
        "models = {}\n",
        "for i in range(start_width, end_width + 1):\n",
        "  models[i] = pipeline.CifarModel()\n",
        "  models[i].load_net(nets.CNN(c = i))\n",
        "  models[i].load_data(train_size = train_size, test_size = test_size, p_noise = p_noise)"
      ],
      "execution_count": 13,
      "outputs": [
        {
          "output_type": "stream",
          "text": [
            "Loading CIFAR10 from torchvision: 15000 train, 5000 test.\n",
            "Files already downloaded and verified\n",
            "Files already downloaded and verified\n",
            "Loading CIFAR10 from torchvision: 15000 train, 5000 test.\n",
            "Files already downloaded and verified\n",
            "Files already downloaded and verified\n"
          ],
          "name": "stdout"
        }
      ]
    },
    {
      "cell_type": "code",
      "metadata": {
        "id": "toB4Eiu4SfGm",
        "colab_type": "code",
        "outputId": "d286ff21-3adb-4f0f-daad-a41badf7342d",
        "colab": {
          "base_uri": "https://localhost:8080/",
          "height": 301
        }
      },
      "source": [
        "import datetime\n",
        "\n",
        "train_errors = []\n",
        "test_errors = []\n",
        "aucs = []\n",
        "for width, model in models.items():\n",
        "  print(datetime.datetime.now())\n",
        "  model.train(nn.CrossEntropyLoss(), epochs = epochs, verbose = False)\n",
        "  train_errors.append(model.train_error())\n",
        "  test_errors.append(model.test_error())\n",
        "  aucs.append(model.auc(big=True))\n",
        "  print('Model(width={0})'.format(width))\n",
        "  print({'train_errors': train_errors, 'test_errors': test_errors, 'aucs': aucs})\n",
        "  print()"
      ],
      "execution_count": 9,
      "outputs": [
        {
          "output_type": "stream",
          "text": [
            "2019-12-15 18:15:57.287974\n",
            "Finished Training\n",
            "Model(width=1)\n",
            "{'train_errors': [0.8478], 'test_errors': [0.8402000000000001], 'aucs': [0.49799824]}\n",
            "\n",
            "2019-12-15 18:16:24.408465\n",
            "Finished Training\n",
            "Model(width=2)\n",
            "{'train_errors': [0.8478, 0.7638], 'test_errors': [0.8402000000000001, 0.7456], 'aucs': [0.49799824, 0.50649378]}\n",
            "\n",
            "2019-12-15 18:16:51.619833\n",
            "Finished Training\n",
            "Model(width=3)\n",
            "{'train_errors': [0.8478, 0.7638, 0.7108], 'test_errors': [0.8402000000000001, 0.7456, 0.6758], 'aucs': [0.49799824, 0.50649378, 0.49136564000000005]}\n",
            "\n"
          ],
          "name": "stdout"
        }
      ]
    },
    {
      "cell_type": "code",
      "metadata": {
        "id": "PRIiY1U1fhxv",
        "colab_type": "code",
        "outputId": "8f61a7de-2ed4-4569-ab77-b5080adee08d",
        "colab": {
          "base_uri": "https://localhost:8080/",
          "height": 87
        }
      },
      "source": [
        "widths = list(models.keys())\n",
        "train_errors = [models[key].train_error() for key in widths]\n",
        "test_errors = [models[key].test_error() for key in widths]\n",
        "aucs = [models[key].auc(big = True) for key in widths]\n",
        "print(widths)\n",
        "print(train_errors)\n",
        "print(test_errors)\n",
        "print(aucs)"
      ],
      "execution_count": 10,
      "outputs": [
        {
          "output_type": "stream",
          "text": [
            "[1, 2, 3]\n",
            "[0.8476, 0.7688, 0.7103999999999999]\n",
            "[0.8418, 0.7442, 0.6748000000000001]\n",
            "[0.49799824, 0.50649378, 0.49136564000000005]\n"
          ],
          "name": "stdout"
        }
      ]
    },
    {
      "cell_type": "code",
      "metadata": {
        "id": "FygpPHuNSruC",
        "colab_type": "code",
        "outputId": "fc137941-f02b-44c8-fe9c-1d97843968cd",
        "colab": {
          "base_uri": "https://localhost:8080/",
          "height": 483
        }
      },
      "source": [
        "plt.figure(figsize=(14,8))\n",
        "plt.plot(widths, train_errors, label = 'Train Error')\n",
        "plt.plot(widths, test_errors, label = 'Test Error')\n",
        "plt.plot(widths, aucs, label = 'AUC')\n",
        "plt.legend(loc = 'lower right')\n",
        "plt.show()"
      ],
      "execution_count": 11,
      "outputs": [
        {
          "output_type": "display_data",
          "data": {
            "image/png": "[encoded data removed]",
            "text/plain": [
              "<Figure size 1008x576 with 1 Axes>"
            ]
          },
          "metadata": {
            "tags": []
          }
        }
      ]
    },
    {
      "cell_type": "code",
      "metadata": {
        "id": "YFrUQf3_gYR1",
        "colab_type": "code",
        "colab": {}
      },
      "source": [
        ""
      ],
      "execution_count": 0,
      "outputs": []
    }
  ]
}