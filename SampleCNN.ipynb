{
  "nbformat": 4,
  "nbformat_minor": 0,
  "metadata": {
    "kernelspec": {
      "name": "python3",
      "display_name": "Python 3"
    },
    "language_info": {
      "codemirror_mode": {
        "name": "ipython",
        "version": 3
      },
      "file_extension": ".py",
      "mimetype": "text/x-python",
      "name": "python",
      "nbconvert_exporter": "python",
      "pygments_lexer": "ipython3",
      "version": "3.7.4"
    },
    "colab": {
      "name": "SampleCNN.ipynb",
      "provenance": []
    },
    "accelerator": "GPU"
  },
  "cells": [
    {
      "cell_type": "code",
      "metadata": {
        "id": "c8L5AGqASfGX",
        "colab_type": "code",
        "outputId": "fbe53342-c1a8-4a48-d076-36dd1c77d971",
        "colab": {
          "base_uri": "https://localhost:8080/",
          "height": 35
        }
      },
      "source": [
        "import pandas as pd\n",
        "import numpy as np\n",
        "\n",
        "import torch\n",
        "import torch.nn as nn\n",
        "\n",
        "import matplotlib.pyplot as plt\n",
        "\n",
        "import nets\n",
        "import pipeline\n",
        "import importlib\n",
        "importlib.reload(pipeline)\n",
        "importlib.reload(nets)"
      ],
      "execution_count": 25,
      "outputs": [
        {
          "output_type": "execute_result",
          "data": {
            "text/plain": [
              "<module 'nets' from '/content/nets.py'>"
            ]
          },
          "metadata": {
            "tags": []
          },
          "execution_count": 25
        }
      ]
    },
    {
      "cell_type": "code",
      "metadata": {
        "id": "CshVJ1n1SfGc",
        "colab_type": "code",
        "outputId": "e6091404-a3ca-4a35-8cf9-ab8b582d51af",
        "colab": {
          "base_uri": "https://localhost:8080/",
          "height": 1000
        }
      },
      "source": [
        "start_width = 1\n",
        "end_width = 21\n",
        "train_size = 5000\n",
        "test_size = 5000\n",
        "epochs = 600\n",
        "\n",
        "models = {}\n",
        "for i in range(start_width, end_width + 1):\n",
        "  models[i] = pipeline.CifarModel()\n",
        "  models[i].load_net(nets.CNN(c = i))\n",
        "  models[i].load_data(train_size = train_size, test_size = test_size)"
      ],
      "execution_count": 26,
      "outputs": [
        {
          "output_type": "stream",
          "text": [
            "Loading CIFAR10 from torchvision: 5000 train, 5000 test.\n",
            "Files already downloaded and verified\n",
            "Files already downloaded and verified\n",
            "Loading CIFAR10 from torchvision: 5000 train, 5000 test.\n",
            "Files already downloaded and verified\n",
            "Files already downloaded and verified\n"
          ],
          "name": "stdout"
        },
        {
          "output_type": "stream",
          "text": [
            "Traceback (most recent call last):\n",
            "  File \"/usr/lib/python3.6/multiprocessing/queues.py\", line 240, in _feed\n",
            "    send_bytes(obj)\n",
            "  File \"/usr/lib/python3.6/multiprocessing/connection.py\", line 200, in send_bytes\n",
            "    self._send_bytes(m[offset:offset + size])\n",
            "  File \"/usr/lib/python3.6/multiprocessing/connection.py\", line 404, in _send_bytes\n",
            "    self._send(header + buf)\n",
            "  File \"/usr/lib/python3.6/multiprocessing/connection.py\", line 368, in _send\n",
            "    n = write(self._handle, buf)\n",
            "OSError: [Errno 9] Bad file descriptor\n",
            "Traceback (most recent call last):\n",
            "  File \"/usr/lib/python3.6/multiprocessing/queues.py\", line 230, in _feed\n",
            "    close()\n",
            "  File \"/usr/lib/python3.6/multiprocessing/connection.py\", line 177, in close\n",
            "    self._close()\n",
            "  File \"/usr/lib/python3.6/multiprocessing/connection.py\", line 361, in _close\n",
            "    _close(self._handle)\n",
            "OSError: [Errno 9] Bad file descriptor\n"
          ],
          "name": "stderr"
        },
        {
          "output_type": "stream",
          "text": [
            "Loading CIFAR10 from torchvision: 5000 train, 5000 test.\n",
            "Files already downloaded and verified\n",
            "Files already downloaded and verified\n",
            "Loading CIFAR10 from torchvision: 5000 train, 5000 test.\n",
            "Files already downloaded and verified\n",
            "Files already downloaded and verified\n",
            "Loading CIFAR10 from torchvision: 5000 train, 5000 test.\n",
            "Files already downloaded and verified\n",
            "Files already downloaded and verified\n",
            "Loading CIFAR10 from torchvision: 5000 train, 5000 test.\n",
            "Files already downloaded and verified\n",
            "Files already downloaded and verified\n",
            "Loading CIFAR10 from torchvision: 5000 train, 5000 test.\n",
            "Files already downloaded and verified\n",
            "Files already downloaded and verified\n",
            "Loading CIFAR10 from torchvision: 5000 train, 5000 test.\n",
            "Files already downloaded and verified\n",
            "Files already downloaded and verified\n",
            "Loading CIFAR10 from torchvision: 5000 train, 5000 test.\n",
            "Files already downloaded and verified\n",
            "Files already downloaded and verified\n",
            "Loading CIFAR10 from torchvision: 5000 train, 5000 test.\n",
            "Files already downloaded and verified\n",
            "Files already downloaded and verified\n",
            "Loading CIFAR10 from torchvision: 5000 train, 5000 test.\n",
            "Files already downloaded and verified\n",
            "Files already downloaded and verified\n",
            "Loading CIFAR10 from torchvision: 5000 train, 5000 test.\n",
            "Files already downloaded and verified\n",
            "Files already downloaded and verified\n",
            "Loading CIFAR10 from torchvision: 5000 train, 5000 test.\n",
            "Files already downloaded and verified\n",
            "Files already downloaded and verified\n",
            "Loading CIFAR10 from torchvision: 5000 train, 5000 test.\n",
            "Files already downloaded and verified\n",
            "Files already downloaded and verified\n",
            "Loading CIFAR10 from torchvision: 5000 train, 5000 test.\n",
            "Files already downloaded and verified\n",
            "Files already downloaded and verified\n",
            "Loading CIFAR10 from torchvision: 5000 train, 5000 test.\n",
            "Files already downloaded and verified\n",
            "Files already downloaded and verified\n",
            "Loading CIFAR10 from torchvision: 5000 train, 5000 test.\n",
            "Files already downloaded and verified\n",
            "Files already downloaded and verified\n",
            "Loading CIFAR10 from torchvision: 5000 train, 5000 test.\n",
            "Files already downloaded and verified\n",
            "Files already downloaded and verified\n",
            "Loading CIFAR10 from torchvision: 5000 train, 5000 test.\n",
            "Files already downloaded and verified\n",
            "Files already downloaded and verified\n",
            "Loading CIFAR10 from torchvision: 5000 train, 5000 test.\n",
            "Files already downloaded and verified\n",
            "Files already downloaded and verified\n",
            "Loading CIFAR10 from torchvision: 5000 train, 5000 test.\n",
            "Files already downloaded and verified\n",
            "Files already downloaded and verified\n"
          ],
          "name": "stdout"
        }
      ]
    },
    {
      "cell_type": "code",
      "metadata": {
        "id": "toB4Eiu4SfGm",
        "colab_type": "code",
        "outputId": "3e096136-2b45-4d30-903e-f69afcb8f6da",
        "colab": {
          "base_uri": "https://localhost:8080/",
          "height": 1000
        }
      },
      "source": [
        "import datetime\n",
        "\n",
        "train_errors = []\n",
        "test_errors = []\n",
        "aucs = []\n",
        "for width, model in models.items():\n",
        "  print(datetime.datetime.now())\n",
        "  model.train(nn.CrossEntropyLoss(), epochs = epochs, verbose = False)\n",
        "  train_errors.append(model.train_error())\n",
        "  test_errors.append(model.test_error())\n",
        "  aucs.append(model.auc(big=True))\n",
        "  print('Model(width={0})'.format(width))\n",
        "  print({'train_errors': train_errors, 'test_errors': test_errors, 'aucs': aucs})\n",
        "  print()"
      ],
      "execution_count": 27,
      "outputs": [
        {
          "output_type": "stream",
          "text": [
            "2019-12-15 08:11:11.809171\n",
            "Finished Training\n",
            "Model(width=1)\n",
            "{'train_errors': [0.6208], 'test_errors': [0.6258], 'aucs': [0.51034672]}\n",
            "\n",
            "2019-12-15 08:23:48.553528\n",
            "Finished Training\n",
            "Model(width=2)\n",
            "{'train_errors': [0.6208, 0.4568], 'test_errors': [0.6258, 0.501], 'aucs': [0.51034672, 0.47873104]}\n",
            "\n",
            "2019-12-15 08:36:30.105023\n",
            "Finished Training\n",
            "Model(width=3)\n",
            "{'train_errors': [0.6208, 0.4568, 0.364], 'test_errors': [0.6258, 0.501, 0.43999999999999995], 'aucs': [0.51034672, 0.47873104, 0.5076160599999999]}\n",
            "\n",
            "2019-12-15 08:49:16.077432\n",
            "Finished Training\n",
            "Model(width=4)\n",
            "{'train_errors': [0.6208, 0.4568, 0.364, 0.27980000000000005], 'test_errors': [0.6258, 0.501, 0.43999999999999995, 0.4072], 'aucs': [0.51034672, 0.47873104, 0.5076160599999999, 0.52559944]}\n",
            "\n",
            "2019-12-15 09:01:47.456773\n",
            "Finished Training\n",
            "Model(width=5)\n",
            "{'train_errors': [0.6208, 0.4568, 0.364, 0.27980000000000005, 0.2298], 'test_errors': [0.6258, 0.501, 0.43999999999999995, 0.4072, 0.4104], 'aucs': [0.51034672, 0.47873104, 0.5076160599999999, 0.52559944, 0.52877372]}\n",
            "\n",
            "2019-12-15 09:14:25.977864\n",
            "Finished Training\n",
            "Model(width=6)\n",
            "{'train_errors': [0.6208, 0.4568, 0.364, 0.27980000000000005, 0.2298, 0.1592], 'test_errors': [0.6258, 0.501, 0.43999999999999995, 0.4072, 0.4104, 0.41259999999999997], 'aucs': [0.51034672, 0.47873104, 0.5076160599999999, 0.52559944, 0.52877372, 0.5524650200000001]}\n",
            "\n",
            "2019-12-15 09:27:30.064836\n",
            "Finished Training\n",
            "Model(width=7)\n",
            "{'train_errors': [0.6208, 0.4568, 0.364, 0.27980000000000005, 0.2298, 0.1592, 0.12380000000000002], 'test_errors': [0.6258, 0.501, 0.43999999999999995, 0.4072, 0.4104, 0.41259999999999997, 0.38759999999999994], 'aucs': [0.51034672, 0.47873104, 0.5076160599999999, 0.52559944, 0.52877372, 0.5524650200000001, 0.55517682]}\n",
            "\n",
            "2019-12-15 09:40:56.142831\n",
            "Finished Training\n",
            "Model(width=8)\n",
            "{'train_errors': [0.6208, 0.4568, 0.364, 0.27980000000000005, 0.2298, 0.1592, 0.12380000000000002, 0.07399999999999995], 'test_errors': [0.6258, 0.501, 0.43999999999999995, 0.4072, 0.4104, 0.41259999999999997, 0.38759999999999994, 0.3852], 'aucs': [0.51034672, 0.47873104, 0.5076160599999999, 0.52559944, 0.52877372, 0.5524650200000001, 0.55517682, 0.57677026]}\n",
            "\n",
            "2019-12-15 09:55:23.296357\n",
            "Finished Training\n",
            "Model(width=9)\n",
            "{'train_errors': [0.6208, 0.4568, 0.364, 0.27980000000000005, 0.2298, 0.1592, 0.12380000000000002, 0.07399999999999995, 0.04459999999999997], 'test_errors': [0.6258, 0.501, 0.43999999999999995, 0.4072, 0.4104, 0.41259999999999997, 0.38759999999999994, 0.3852, 0.373], 'aucs': [0.51034672, 0.47873104, 0.5076160599999999, 0.52559944, 0.52877372, 0.5524650200000001, 0.55517682, 0.57677026, 0.58385162]}\n",
            "\n",
            "2019-12-15 10:10:10.146643\n",
            "Finished Training\n",
            "Model(width=10)\n",
            "{'train_errors': [0.6208, 0.4568, 0.364, 0.27980000000000005, 0.2298, 0.1592, 0.12380000000000002, 0.07399999999999995, 0.04459999999999997, 0.031000000000000028], 'test_errors': [0.6258, 0.501, 0.43999999999999995, 0.4072, 0.4104, 0.41259999999999997, 0.38759999999999994, 0.3852, 0.373, 0.3568], 'aucs': [0.51034672, 0.47873104, 0.5076160599999999, 0.52559944, 0.52877372, 0.5524650200000001, 0.55517682, 0.57677026, 0.58385162, 0.59247792]}\n",
            "\n",
            "2019-12-15 10:24:42.742342\n",
            "Finished Training\n",
            "Model(width=11)\n",
            "{'train_errors': [0.6208, 0.4568, 0.364, 0.27980000000000005, 0.2298, 0.1592, 0.12380000000000002, 0.07399999999999995, 0.04459999999999997, 0.031000000000000028, 0.014000000000000012], 'test_errors': [0.6258, 0.501, 0.43999999999999995, 0.4072, 0.4104, 0.41259999999999997, 0.38759999999999994, 0.3852, 0.373, 0.3568, 0.34619999999999995], 'aucs': [0.51034672, 0.47873104, 0.5076160599999999, 0.52559944, 0.52877372, 0.5524650200000001, 0.55517682, 0.57677026, 0.58385162, 0.59247792, 0.6088324]}\n",
            "\n",
            "2019-12-15 10:38:18.450314\n",
            "Finished Training\n",
            "Model(width=12)\n",
            "{'train_errors': [0.6208, 0.4568, 0.364, 0.27980000000000005, 0.2298, 0.1592, 0.12380000000000002, 0.07399999999999995, 0.04459999999999997, 0.031000000000000028, 0.014000000000000012, 0.012199999999999989], 'test_errors': [0.6258, 0.501, 0.43999999999999995, 0.4072, 0.4104, 0.41259999999999997, 0.38759999999999994, 0.3852, 0.373, 0.3568, 0.34619999999999995, 0.353], 'aucs': [0.51034672, 0.47873104, 0.5076160599999999, 0.52559944, 0.52877372, 0.5524650200000001, 0.55517682, 0.57677026, 0.58385162, 0.59247792, 0.6088324, 0.6167967200000001]}\n",
            "\n",
            "2019-12-15 10:51:52.443460\n",
            "Finished Training\n",
            "Model(width=13)\n",
            "{'train_errors': [0.6208, 0.4568, 0.364, 0.27980000000000005, 0.2298, 0.1592, 0.12380000000000002, 0.07399999999999995, 0.04459999999999997, 0.031000000000000028, 0.014000000000000012, 0.012199999999999989, 0.007399999999999962], 'test_errors': [0.6258, 0.501, 0.43999999999999995, 0.4072, 0.4104, 0.41259999999999997, 0.38759999999999994, 0.3852, 0.373, 0.3568, 0.34619999999999995, 0.353, 0.35540000000000005], 'aucs': [0.51034672, 0.47873104, 0.5076160599999999, 0.52559944, 0.52877372, 0.5524650200000001, 0.55517682, 0.57677026, 0.58385162, 0.59247792, 0.6088324, 0.6167967200000001, 0.63494176]}\n",
            "\n",
            "2019-12-15 11:06:24.558074\n",
            "Finished Training\n",
            "Model(width=14)\n",
            "{'train_errors': [0.6208, 0.4568, 0.364, 0.27980000000000005, 0.2298, 0.1592, 0.12380000000000002, 0.07399999999999995, 0.04459999999999997, 0.031000000000000028, 0.014000000000000012, 0.012199999999999989, 0.007399999999999962, 0.0030000000000000027], 'test_errors': [0.6258, 0.501, 0.43999999999999995, 0.4072, 0.4104, 0.41259999999999997, 0.38759999999999994, 0.3852, 0.373, 0.3568, 0.34619999999999995, 0.353, 0.35540000000000005, 0.3388], 'aucs': [0.51034672, 0.47873104, 0.5076160599999999, 0.52559944, 0.52877372, 0.5524650200000001, 0.55517682, 0.57677026, 0.58385162, 0.59247792, 0.6088324, 0.6167967200000001, 0.63494176, 0.63137244]}\n",
            "\n",
            "2019-12-15 11:21:28.438627\n",
            "Finished Training\n",
            "Model(width=15)\n",
            "{'train_errors': [0.6208, 0.4568, 0.364, 0.27980000000000005, 0.2298, 0.1592, 0.12380000000000002, 0.07399999999999995, 0.04459999999999997, 0.031000000000000028, 0.014000000000000012, 0.012199999999999989, 0.007399999999999962, 0.0030000000000000027, 0.0040000000000000036], 'test_errors': [0.6258, 0.501, 0.43999999999999995, 0.4072, 0.4104, 0.41259999999999997, 0.38759999999999994, 0.3852, 0.373, 0.3568, 0.34619999999999995, 0.353, 0.35540000000000005, 0.3388, 0.3304], 'aucs': [0.51034672, 0.47873104, 0.5076160599999999, 0.52559944, 0.52877372, 0.5524650200000001, 0.55517682, 0.57677026, 0.58385162, 0.59247792, 0.6088324, 0.6167967200000001, 0.63494176, 0.63137244, 0.6283822600000001]}\n",
            "\n",
            "2019-12-15 11:36:38.638527\n",
            "Finished Training\n",
            "Model(width=16)\n",
            "{'train_errors': [0.6208, 0.4568, 0.364, 0.27980000000000005, 0.2298, 0.1592, 0.12380000000000002, 0.07399999999999995, 0.04459999999999997, 0.031000000000000028, 0.014000000000000012, 0.012199999999999989, 0.007399999999999962, 0.0030000000000000027, 0.0040000000000000036, 0.0033999999999999586], 'test_errors': [0.6258, 0.501, 0.43999999999999995, 0.4072, 0.4104, 0.41259999999999997, 0.38759999999999994, 0.3852, 0.373, 0.3568, 0.34619999999999995, 0.353, 0.35540000000000005, 0.3388, 0.3304, 0.3496], 'aucs': [0.51034672, 0.47873104, 0.5076160599999999, 0.52559944, 0.52877372, 0.5524650200000001, 0.55517682, 0.57677026, 0.58385162, 0.59247792, 0.6088324, 0.6167967200000001, 0.63494176, 0.63137244, 0.6283822600000001, 0.6448744200000001]}\n",
            "\n",
            "2019-12-15 11:51:50.429630\n",
            "Finished Training\n",
            "Model(width=17)\n",
            "{'train_errors': [0.6208, 0.4568, 0.364, 0.27980000000000005, 0.2298, 0.1592, 0.12380000000000002, 0.07399999999999995, 0.04459999999999997, 0.031000000000000028, 0.014000000000000012, 0.012199999999999989, 0.007399999999999962, 0.0030000000000000027, 0.0040000000000000036, 0.0033999999999999586, 0.0008000000000000229], 'test_errors': [0.6258, 0.501, 0.43999999999999995, 0.4072, 0.4104, 0.41259999999999997, 0.38759999999999994, 0.3852, 0.373, 0.3568, 0.34619999999999995, 0.353, 0.35540000000000005, 0.3388, 0.3304, 0.3496, 0.31699999999999995], 'aucs': [0.51034672, 0.47873104, 0.5076160599999999, 0.52559944, 0.52877372, 0.5524650200000001, 0.55517682, 0.57677026, 0.58385162, 0.59247792, 0.6088324, 0.6167967200000001, 0.63494176, 0.63137244, 0.6283822600000001, 0.6448744200000001, 0.6485198000000001]}\n",
            "\n",
            "2019-12-15 12:07:52.646217\n",
            "Finished Training\n",
            "Model(width=18)\n",
            "{'train_errors': [0.6208, 0.4568, 0.364, 0.27980000000000005, 0.2298, 0.1592, 0.12380000000000002, 0.07399999999999995, 0.04459999999999997, 0.031000000000000028, 0.014000000000000012, 0.012199999999999989, 0.007399999999999962, 0.0030000000000000027, 0.0040000000000000036, 0.0033999999999999586, 0.0008000000000000229, 0.00019999999999997797], 'test_errors': [0.6258, 0.501, 0.43999999999999995, 0.4072, 0.4104, 0.41259999999999997, 0.38759999999999994, 0.3852, 0.373, 0.3568, 0.34619999999999995, 0.353, 0.35540000000000005, 0.3388, 0.3304, 0.3496, 0.31699999999999995, 0.3052], 'aucs': [0.51034672, 0.47873104, 0.5076160599999999, 0.52559944, 0.52877372, 0.5524650200000001, 0.55517682, 0.57677026, 0.58385162, 0.59247792, 0.6088324, 0.6167967200000001, 0.63494176, 0.63137244, 0.6283822600000001, 0.6448744200000001, 0.6485198000000001, 0.6536827199999999]}\n",
            "\n",
            "2019-12-15 12:23:44.093501\n",
            "Finished Training\n",
            "Model(width=19)\n",
            "{'train_errors': [0.6208, 0.4568, 0.364, 0.27980000000000005, 0.2298, 0.1592, 0.12380000000000002, 0.07399999999999995, 0.04459999999999997, 0.031000000000000028, 0.014000000000000012, 0.012199999999999989, 0.007399999999999962, 0.0030000000000000027, 0.0040000000000000036, 0.0033999999999999586, 0.0008000000000000229, 0.00019999999999997797, 0.00039999999999995595], 'test_errors': [0.6258, 0.501, 0.43999999999999995, 0.4072, 0.4104, 0.41259999999999997, 0.38759999999999994, 0.3852, 0.373, 0.3568, 0.34619999999999995, 0.353, 0.35540000000000005, 0.3388, 0.3304, 0.3496, 0.31699999999999995, 0.3052, 0.3006], 'aucs': [0.51034672, 0.47873104, 0.5076160599999999, 0.52559944, 0.52877372, 0.5524650200000001, 0.55517682, 0.57677026, 0.58385162, 0.59247792, 0.6088324, 0.6167967200000001, 0.63494176, 0.63137244, 0.6283822600000001, 0.6448744200000001, 0.6485198000000001, 0.6536827199999999, 0.64568]}\n",
            "\n",
            "2019-12-15 12:39:16.780376\n",
            "Finished Training\n",
            "Model(width=20)\n",
            "{'train_errors': [0.6208, 0.4568, 0.364, 0.27980000000000005, 0.2298, 0.1592, 0.12380000000000002, 0.07399999999999995, 0.04459999999999997, 0.031000000000000028, 0.014000000000000012, 0.012199999999999989, 0.007399999999999962, 0.0030000000000000027, 0.0040000000000000036, 0.0033999999999999586, 0.0008000000000000229, 0.00019999999999997797, 0.00039999999999995595, 0.01859999999999995], 'test_errors': [0.6258, 0.501, 0.43999999999999995, 0.4072, 0.4104, 0.41259999999999997, 0.38759999999999994, 0.3852, 0.373, 0.3568, 0.34619999999999995, 0.353, 0.35540000000000005, 0.3388, 0.3304, 0.3496, 0.31699999999999995, 0.3052, 0.3006, 0.3318], 'aucs': [0.51034672, 0.47873104, 0.5076160599999999, 0.52559944, 0.52877372, 0.5524650200000001, 0.55517682, 0.57677026, 0.58385162, 0.59247792, 0.6088324, 0.6167967200000001, 0.63494176, 0.63137244, 0.6283822600000001, 0.6448744200000001, 0.6485198000000001, 0.6536827199999999, 0.64568, 0.6313429]}\n",
            "\n",
            "2019-12-15 12:54:09.220728\n",
            "Finished Training\n",
            "Model(width=21)\n",
            "{'train_errors': [0.6208, 0.4568, 0.364, 0.27980000000000005, 0.2298, 0.1592, 0.12380000000000002, 0.07399999999999995, 0.04459999999999997, 0.031000000000000028, 0.014000000000000012, 0.012199999999999989, 0.007399999999999962, 0.0030000000000000027, 0.0040000000000000036, 0.0033999999999999586, 0.0008000000000000229, 0.00019999999999997797, 0.00039999999999995595, 0.01859999999999995, 0.0], 'test_errors': [0.6258, 0.501, 0.43999999999999995, 0.4072, 0.4104, 0.41259999999999997, 0.38759999999999994, 0.3852, 0.373, 0.3568, 0.34619999999999995, 0.353, 0.35540000000000005, 0.3388, 0.3304, 0.3496, 0.31699999999999995, 0.3052, 0.3006, 0.3318, 0.29979999999999996], 'aucs': [0.51034672, 0.47873104, 0.5076160599999999, 0.52559944, 0.52877372, 0.5524650200000001, 0.55517682, 0.57677026, 0.58385162, 0.59247792, 0.6088324, 0.6167967200000001, 0.63494176, 0.63137244, 0.6283822600000001, 0.6448744200000001, 0.6485198000000001, 0.6536827199999999, 0.64568, 0.6313429, 0.67744596]}\n",
            "\n"
          ],
          "name": "stdout"
        }
      ]
    },
    {
      "cell_type": "code",
      "metadata": {
        "id": "PRIiY1U1fhxv",
        "colab_type": "code",
        "outputId": "4af09f7c-0805-4428-e452-7d0059d510b6",
        "colab": {
          "base_uri": "https://localhost:8080/",
          "height": 107
        }
      },
      "source": [
        "widths = list(models.keys())\n",
        "train_errors = [models[key].train_error() for key in widths]\n",
        "test_errors = [models[key].test_error() for key in widths]\n",
        "aucs = [models[key].auc(big = True) for key in widths]\n",
        "print(widths)\n",
        "print(train_errors)\n",
        "print(test_errors)\n",
        "print(aucs)"
      ],
      "execution_count": 28,
      "outputs": [
        {
          "output_type": "stream",
          "text": [
            "[1, 2, 3, 4, 5, 6, 7, 8, 9, 10, 11, 12, 13, 14, 15, 16, 17, 18, 19, 20, 21]\n",
            "[0.627, 0.46399999999999997, 0.37160000000000004, 0.29600000000000004, 0.27080000000000004, 0.20020000000000004, 0.138, 0.11380000000000001, 0.07140000000000002, 0.06599999999999995, 0.04300000000000004, 0.030200000000000005, 0.022800000000000042, 0.015800000000000036, 0.010399999999999965, 0.014800000000000035, 0.009399999999999964, 0.0031999999999999806, 0.0043999999999999595, 0.03259999999999996, 0.00019999999999997797]\n",
            "[0.6262, 0.4962, 0.4262, 0.39380000000000004, 0.3974, 0.3778, 0.3668, 0.35419999999999996, 0.34440000000000004, 0.33399999999999996, 0.3264, 0.32299999999999995, 0.3296, 0.31599999999999995, 0.31020000000000003, 0.3214, 0.29359999999999997, 0.2884, 0.27659999999999996, 0.3046, 0.27959999999999996]\n",
            "[0.51034672, 0.47873104, 0.5076160599999999, 0.52559944, 0.52877372, 0.5524650200000001, 0.55517682, 0.57677026, 0.58385162, 0.59247792, 0.6088324, 0.6167967200000001, 0.63494176, 0.63137244, 0.6283822600000001, 0.6448744200000001, 0.6485198000000001, 0.6536827199999999, 0.64568, 0.6313429, 0.67744596]\n"
          ],
          "name": "stdout"
        }
      ]
    },
    {
      "cell_type": "code",
      "metadata": {
        "id": "FygpPHuNSruC",
        "colab_type": "code",
        "outputId": "eb7df721-3ab5-4959-ee41-908fd7cdd9d6",
        "colab": {
          "base_uri": "https://localhost:8080/",
          "height": 483
        }
      },
      "source": [
        "plt.figure(figsize=(14,8))\n",
        "plt.plot(widths, train_errors, label = 'Train Error')\n",
        "plt.plot(widths, test_errors, label = 'Test Error')\n",
        "plt.plot(widths, aucs, label = 'AUC')\n",
        "plt.legend(loc = 'lower right')\n",
        "plt.show()"
      ],
      "execution_count": 29,
      "outputs": [
        {
          "output_type": "display_data",
          "data": {
            "image/png": "[encoded data removed]",
            "text/plain": [
              "<Figure size 1008x576 with 1 Axes>"
            ]
          },
          "metadata": {
            "tags": []
          }
        }
      ]
    },
    {
      "cell_type": "code",
      "metadata": {
        "id": "YFrUQf3_gYR1",
        "colab_type": "code",
        "colab": {}
      },
      "source": [
        ""
      ],
      "execution_count": 0,
      "outputs": []
    }
  ]
}