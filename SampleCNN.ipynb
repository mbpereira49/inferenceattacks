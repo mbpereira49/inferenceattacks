{
  "nbformat": 4,
  "nbformat_minor": 0,
  "metadata": {
    "kernelspec": {
      "name": "python3",
      "display_name": "Python 3"
    },
    "language_info": {
      "codemirror_mode": {
        "name": "ipython",
        "version": 3
      },
      "file_extension": ".py",
      "mimetype": "text/x-python",
      "name": "python",
      "nbconvert_exporter": "python",
      "pygments_lexer": "ipython3",
      "version": "3.7.4"
    },
    "colab": {
      "name": "SampleCNN.ipynb",
      "provenance": []
    },
    "accelerator": "GPU"
  },
  "cells": [
    {
      "cell_type": "code",
      "metadata": {
        "id": "c8L5AGqASfGX",
        "colab_type": "code",
        "colab": {
          "base_uri": "https://localhost:8080/",
          "height": 35
        },
        "outputId": "3c9d9b7e-cf6f-48ce-8bc0-22aa7cc7ab6c"
      },
      "source": [
        "import pandas as pd\n",
        "import numpy as np\n",
        "\n",
        "import torch\n",
        "import torch.nn as nn\n",
        "\n",
        "import matplotlib.pyplot as plt\n",
        "\n",
        "import nets\n",
        "import pipeline\n",
        "import importlib\n",
        "importlib.reload(pipeline)\n",
        "importlib.reload(nets)"
      ],
      "execution_count": 54,
      "outputs": [
        {
          "output_type": "execute_result",
          "data": {
            "text/plain": [
              "<module 'nets' from '/content/nets.py'>"
            ]
          },
          "metadata": {
            "tags": []
          },
          "execution_count": 54
        }
      ]
    },
    {
      "cell_type": "code",
      "metadata": {
        "id": "CshVJ1n1SfGc",
        "colab_type": "code",
        "colab": {
          "base_uri": "https://localhost:8080/",
          "height": 175
        },
        "outputId": "da9c8cac-1ac5-4793-f1d2-bafa1588906b"
      },
      "source": [
        "start_width = 1\n",
        "end_width = 10\n",
        "train_size = 5000\n",
        "test_size = 5000\n",
        "epochs = 800\n",
        "\n",
        "models = {}\n",
        "for i in range(start_width, end_width + 1):\n",
        "  models[i] = pipeline.CifarModel()\n",
        "  models[i].load_net(nets.CNN(c = i))\n",
        "  models[i].load_data(train_size = train_size, test_size = test_size)"
      ],
      "execution_count": 41,
      "outputs": [
        {
          "output_type": "stream",
          "text": [
            "Loading CIFAR10 from torchvision: 512 train, 512 test.\n",
            "Files already downloaded and verified\n",
            "Files already downloaded and verified\n",
            "Loading CIFAR10 from torchvision: 512 train, 512 test.\n",
            "Files already downloaded and verified\n",
            "Files already downloaded and verified\n",
            "Loading CIFAR10 from torchvision: 512 train, 512 test.\n",
            "Files already downloaded and verified\n",
            "Files already downloaded and verified\n"
          ],
          "name": "stdout"
        }
      ]
    },
    {
      "cell_type": "code",
      "metadata": {
        "id": "toB4Eiu4SfGm",
        "colab_type": "code",
        "colab": {
          "base_uri": "https://localhost:8080/",
          "height": 1000
        },
        "outputId": "73b61222-e110-4905-86c2-1b25b2edacca"
      },
      "source": [
        "for model in models.values():\n",
        "  model.train(nn.CrossEntropyLoss(), epochs = epochs)"
      ],
      "execution_count": 42,
      "outputs": [
        {
          "output_type": "stream",
          "text": [
            "[0] loss: 2.902\n",
            "[5] loss: 13.947\n",
            "[10] loss: 13.318\n",
            "[15] loss: 12.960\n",
            "[20] loss: 12.526\n",
            "[25] loss: 12.285\n",
            "[30] loss: 12.115\n",
            "[35] loss: 11.885\n",
            "[40] loss: 11.801\n",
            "[45] loss: 11.664\n",
            "[50] loss: 11.597\n",
            "[55] loss: 11.445\n",
            "[60] loss: 11.480\n",
            "[65] loss: 11.401\n",
            "[70] loss: 11.330\n",
            "[75] loss: 11.330\n",
            "[80] loss: 11.277\n",
            "[85] loss: 11.259\n",
            "[90] loss: 11.204\n",
            "[95] loss: 11.174\n",
            "[100] loss: 11.163\n",
            "[105] loss: 11.088\n",
            "[110] loss: 11.074\n",
            "[115] loss: 11.049\n",
            "[120] loss: 11.013\n",
            "[125] loss: 10.987\n",
            "[130] loss: 10.944\n",
            "[135] loss: 10.912\n",
            "[140] loss: 10.871\n",
            "[145] loss: 10.839\n",
            "[150] loss: 10.822\n",
            "[155] loss: 10.767\n",
            "[160] loss: 10.764\n",
            "[165] loss: 10.676\n",
            "[170] loss: 10.666\n",
            "[175] loss: 10.653\n",
            "[180] loss: 10.576\n",
            "[185] loss: 10.588\n",
            "[190] loss: 10.553\n",
            "[195] loss: 10.499\n",
            "[200] loss: 10.517\n",
            "[205] loss: 10.419\n",
            "[210] loss: 10.413\n",
            "[215] loss: 10.418\n",
            "[220] loss: 10.392\n",
            "[225] loss: 10.329\n",
            "[230] loss: 10.314\n",
            "[235] loss: 10.281\n",
            "[240] loss: 10.227\n",
            "[245] loss: 10.201\n",
            "[250] loss: 10.201\n",
            "[255] loss: 10.154\n",
            "[260] loss: 10.104\n",
            "[265] loss: 10.133\n",
            "[270] loss: 10.089\n",
            "[275] loss: 10.052\n",
            "[280] loss: 9.986\n",
            "[285] loss: 10.018\n",
            "[290] loss: 9.983\n",
            "[295] loss: 9.997\n",
            "[300] loss: 9.906\n",
            "[305] loss: 9.908\n",
            "[310] loss: 9.922\n",
            "[315] loss: 9.864\n",
            "[320] loss: 9.844\n",
            "[325] loss: 9.876\n",
            "[330] loss: 9.843\n",
            "[335] loss: 9.795\n",
            "[340] loss: 9.768\n",
            "[345] loss: 9.753\n",
            "[350] loss: 9.748\n",
            "[355] loss: 9.700\n",
            "[360] loss: 9.672\n",
            "[365] loss: 9.694\n",
            "[370] loss: 9.674\n",
            "[375] loss: 9.665\n",
            "[380] loss: 9.644\n",
            "[385] loss: 9.672\n",
            "[390] loss: 9.608\n",
            "[395] loss: 9.545\n",
            "Finished Training\n",
            "[0] loss: 2.792\n",
            "[5] loss: 13.014\n",
            "[10] loss: 12.027\n",
            "[15] loss: 11.492\n",
            "[20] loss: 11.237\n",
            "[25] loss: 11.017\n",
            "[30] loss: 10.912\n",
            "[35] loss: 10.835\n",
            "[40] loss: 10.752\n",
            "[45] loss: 10.674\n",
            "[50] loss: 10.574\n",
            "[55] loss: 10.556\n",
            "[60] loss: 10.490\n",
            "[65] loss: 10.369\n",
            "[70] loss: 10.305\n",
            "[75] loss: 10.297\n",
            "[80] loss: 10.209\n",
            "[85] loss: 10.163\n",
            "[90] loss: 10.127\n",
            "[95] loss: 10.056\n",
            "[100] loss: 10.010\n",
            "[105] loss: 9.935\n",
            "[110] loss: 9.880\n",
            "[115] loss: 9.919\n",
            "[120] loss: 9.807\n",
            "[125] loss: 9.764\n",
            "[130] loss: 9.696\n",
            "[135] loss: 9.669\n",
            "[140] loss: 9.631\n",
            "[145] loss: 9.590\n",
            "[150] loss: 9.554\n",
            "[155] loss: 9.479\n",
            "[160] loss: 9.428\n",
            "[165] loss: 9.416\n",
            "[170] loss: 9.310\n",
            "[175] loss: 9.289\n",
            "[180] loss: 9.190\n",
            "[185] loss: 9.166\n",
            "[190] loss: 9.126\n",
            "[195] loss: 9.018\n",
            "[200] loss: 9.006\n",
            "[205] loss: 8.957\n",
            "[210] loss: 8.902\n",
            "[215] loss: 8.828\n",
            "[220] loss: 8.784\n",
            "[225] loss: 8.837\n",
            "[230] loss: 8.708\n",
            "[235] loss: 8.662\n",
            "[240] loss: 8.554\n",
            "[245] loss: 8.606\n",
            "[250] loss: 8.582\n",
            "[255] loss: 8.491\n",
            "[260] loss: 8.508\n",
            "[265] loss: 8.427\n",
            "[270] loss: 8.388\n",
            "[275] loss: 8.398\n",
            "[280] loss: 8.293\n",
            "[285] loss: 8.300\n",
            "[290] loss: 8.199\n",
            "[295] loss: 8.179\n",
            "[300] loss: 8.137\n",
            "[305] loss: 8.159\n",
            "[310] loss: 8.114\n",
            "[315] loss: 8.047\n",
            "[320] loss: 8.018\n",
            "[325] loss: 7.999\n",
            "[330] loss: 7.971\n",
            "[335] loss: 7.933\n",
            "[340] loss: 7.883\n",
            "[345] loss: 7.841\n",
            "[350] loss: 7.819\n",
            "[355] loss: 7.792\n",
            "[360] loss: 7.769\n",
            "[365] loss: 7.745\n",
            "[370] loss: 7.653\n",
            "[375] loss: 7.669\n",
            "[380] loss: 7.640\n",
            "[385] loss: 7.630\n",
            "[390] loss: 7.609\n",
            "[395] loss: 7.505\n",
            "Finished Training\n",
            "[0] loss: 2.932\n",
            "[5] loss: 13.377\n",
            "[10] loss: 12.085\n",
            "[15] loss: 11.408\n",
            "[20] loss: 11.076\n",
            "[25] loss: 10.916\n",
            "[30] loss: 10.787\n",
            "[35] loss: 10.659\n",
            "[40] loss: 10.554\n",
            "[45] loss: 10.431\n",
            "[50] loss: 10.358\n",
            "[55] loss: 10.243\n",
            "[60] loss: 10.120\n",
            "[65] loss: 10.036\n",
            "[70] loss: 9.901\n",
            "[75] loss: 9.847\n",
            "[80] loss: 9.724\n",
            "[85] loss: 9.660\n",
            "[90] loss: 9.577\n",
            "[95] loss: 9.508\n",
            "[100] loss: 9.458\n",
            "[105] loss: 9.352\n",
            "[110] loss: 9.276\n",
            "[115] loss: 9.236\n",
            "[120] loss: 9.152\n",
            "[125] loss: 9.116\n",
            "[130] loss: 9.046\n",
            "[135] loss: 8.982\n",
            "[140] loss: 8.892\n",
            "[145] loss: 8.822\n",
            "[150] loss: 8.738\n",
            "[155] loss: 8.714\n",
            "[160] loss: 8.637\n",
            "[165] loss: 8.604\n",
            "[170] loss: 8.511\n",
            "[175] loss: 8.480\n",
            "[180] loss: 8.380\n",
            "[185] loss: 8.342\n",
            "[190] loss: 8.268\n",
            "[195] loss: 8.197\n",
            "[200] loss: 8.173\n",
            "[205] loss: 8.045\n",
            "[210] loss: 8.063\n",
            "[215] loss: 8.011\n",
            "[220] loss: 7.970\n",
            "[225] loss: 7.934\n",
            "[230] loss: 7.845\n",
            "[235] loss: 7.767\n",
            "[240] loss: 7.724\n",
            "[245] loss: 7.676\n",
            "[250] loss: 7.703\n",
            "[255] loss: 7.552\n",
            "[260] loss: 7.588\n",
            "[265] loss: 7.470\n",
            "[270] loss: 7.411\n",
            "[275] loss: 7.351\n",
            "[280] loss: 7.315\n",
            "[285] loss: 7.282\n",
            "[290] loss: 7.190\n",
            "[295] loss: 7.157\n",
            "[300] loss: 7.162\n",
            "[305] loss: 6.996\n",
            "[310] loss: 7.015\n",
            "[315] loss: 6.914\n",
            "[320] loss: 6.954\n",
            "[325] loss: 6.814\n",
            "[330] loss: 6.840\n",
            "[335] loss: 6.801\n",
            "[340] loss: 6.770\n",
            "[345] loss: 6.710\n",
            "[350] loss: 6.643\n",
            "[355] loss: 6.580\n",
            "[360] loss: 6.545\n",
            "[365] loss: 6.534\n",
            "[370] loss: 6.454\n",
            "[375] loss: 6.383\n",
            "[380] loss: 6.352\n",
            "[385] loss: 6.308\n",
            "[390] loss: 6.216\n",
            "[395] loss: 6.149\n",
            "Finished Training\n"
          ],
          "name": "stdout"
        }
      ]
    },
    {
      "cell_type": "code",
      "metadata": {
        "id": "PRIiY1U1fhxv",
        "colab_type": "code",
        "colab": {
          "base_uri": "https://localhost:8080/",
          "height": 87
        },
        "outputId": "f3050559-4ebc-42b9-f324-3228c2c8cb0b"
      },
      "source": [
        "widths = list(models.keys())\n",
        "train_errors = [models[key].train_error() for key in widths]\n",
        "test_errors = [models[key].test_error() for key in widths]\n",
        "aucs = [models[key].auc(big = True) for key in widths]\n",
        "print(widths)\n",
        "print(train_errors)\n",
        "print(test_errors)\n",
        "print(aucs)"
      ],
      "execution_count": 55,
      "outputs": [
        {
          "output_type": "stream",
          "text": [
            "[1, 2, 3]\n",
            "[0.287109375, 0.474609375, 0.591796875]\n",
            "[0.2734375, 0.29296875, 0.376953125]\n",
            "[0.4809989929199219, 0.5315170288085938, 0.5112876892089844]\n"
          ],
          "name": "stdout"
        }
      ]
    },
    {
      "cell_type": "code",
      "metadata": {
        "id": "FygpPHuNSruC",
        "colab_type": "code",
        "colab": {
          "base_uri": "https://localhost:8080/",
          "height": 483
        },
        "outputId": "d8ce2fb5-5108-4869-8a21-b12a2367b831"
      },
      "source": [
        "plt.figure(figsize=(14,8))\n",
        "plt.plot(widths, train_errors, label = 'Train Error')\n",
        "plt.plot(widths, test_errors, label = 'Test Error')\n",
        "plt.plot(widths, aucs, label = 'AUC')\n",
        "plt.legend(loc = 'lower right')\n",
        "plt.show()"
      ],
      "execution_count": 53,
      "outputs": [
        {
          "output_type": "display_data",
          "data": {
            "image/png": "[encoded data removed]",
            "text/plain": [
              "<Figure size 1008x576 with 1 Axes>"
            ]
          },
          "metadata": {
            "tags": []
          }
        }
      ]
    },
    {
      "cell_type": "code",
      "metadata": {
        "id": "YFrUQf3_gYR1",
        "colab_type": "code",
        "colab": {}
      },
      "source": [
        ""
      ],
      "execution_count": 0,
      "outputs": []
    }
  ]
}