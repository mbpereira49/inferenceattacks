{
 "cells": [
  {
   "cell_type": "code",
   "execution_count": 0,
   "metadata": {
    "button": false,
    "colab": {},
    "colab_type": "code",
    "collapsed": true,
    "deletable": true,
    "id": "evjLmqOAgC1P",
    "new_sheet": false,
    "run_control": {
     "read_only": false
    }
   },
   "outputs": [],
   "source": []
  },
  {
   "cell_type": "code",
   "execution_count": 1,
   "metadata": {
    "button": false,
    "colab": {
     "base_uri": "https://localhost:8080/",
     "height": 34
    },
    "colab_type": "code",
    "collapsed": false,
    "deletable": true,
    "id": "0vr7AKekxCfM",
    "new_sheet": false,
    "outputId": "46c00a92-8c9f-44dc-8820-39160d3aeecf",
    "run_control": {
     "read_only": false
    }
   },
   "outputs": [
    {
     "data": {
      "text/plain": [
       "<module 'nets' from '/content/nets.py'>"
      ]
     },
     "execution_count": 1,
     "metadata": {
      "tags": []
     },
     "output_type": "execute_result"
    }
   ],
   "source": [
    "import pandas as pd\n",
    "import numpy as np\n",
    "\n",
    "import torch\n",
    "import torch.nn as nn\n",
    "from torch import optim\n",
    "\n",
    "import matplotlib.pyplot as plt\n",
    "\n",
    "import nets\n",
    "import pipeline\n",
    "import importlib\n",
    "importlib.reload(pipeline)\n",
    "importlib.reload(nets)"
   ]
  },
  {
   "cell_type": "code",
   "execution_count": 2,
   "metadata": {
    "button": false,
    "colab": {
     "base_uri": "https://localhost:8080/",
     "height": 85
    },
    "colab_type": "code",
    "collapsed": false,
    "deletable": true,
    "id": "MHJtLaizxLMn",
    "new_sheet": false,
    "outputId": "0fc0d349-c8cc-4553-a94a-e39e85a58f08",
    "run_control": {
     "read_only": false
    }
   },
   "outputs": [
    {
     "name": "stderr",
     "output_type": "stream",
     "text": [
      "\r",
      "0it [00:00, ?it/s]"
     ]
    },
    {
     "name": "stdout",
     "output_type": "stream",
     "text": [
      "Loading CIFAR10 from torchvision: 50000 train, 10000 test.\n",
      "Downloading https://www.cs.toronto.edu/~kriz/cifar-10-python.tar.gz to ./data/cifar-10-python.tar.gz\n"
     ]
    },
    {
     "name": "stderr",
     "output_type": "stream",
     "text": [
      "100%|█████████▉| 169746432/170498071 [00:11<00:00, 33440808.74it/s]"
     ]
    },
    {
     "name": "stdout",
     "output_type": "stream",
     "text": [
      "Extracting ./data/cifar-10-python.tar.gz to ./data\n",
      "Files already downloaded and verified\n"
     ]
    }
   ],
   "source": [
    "train_size = 50000\n",
    "test_size = 10000\n",
    "epochs = 800\n",
    "\n",
    "p_noise = 0.2\n",
    "\n",
    "model = pipeline.CifarModel(random_state=1)\n",
    "model.build_net(k=64)\n",
    "model.load_data(train_size = train_size, test_size = test_size, p_noise = p_noise, test_noise=True, augment=True)"
   ]
  },
  {
   "cell_type": "code",
   "execution_count": 0,
   "metadata": {
    "button": false,
    "colab": {
     "base_uri": "https://localhost:8080/",
     "height": 527
    },
    "colab_type": "code",
    "collapsed": false,
    "deletable": true,
    "id": "8uJ45UPmxMC9",
    "new_sheet": false,
    "outputId": "667f6581-e89c-45c1-c5b4-fca018554141",
    "run_control": {
     "read_only": false
    }
   },
   "outputs": [
    {
     "name": "stdout",
     "output_type": "stream",
     "text": [
      "2019-12-16 16:50:21.914436\n"
     ]
    },
    {
     "name": "stderr",
     "output_type": "stream",
     "text": [
      "\r",
      "170500096it [00:30, 33440808.74it/s]                               "
     ]
    },
    {
     "name": "stdout",
     "output_type": "stream",
     "text": [
      "0.583, 0.457, 0.494, \n",
      "0.430, 0.412, 0.490, \n",
      "0.364, 0.361, 0.501, \n",
      "0.321, 0.326, 0.508, \n",
      "0.295, 0.312, 0.507, \n",
      "0.274, 0.291, 0.515, \n",
      "0.261, 0.283, 0.515, \n",
      "0.245, 0.268, 0.515, \n",
      "0.236, 0.261, 0.530, \n",
      "0.226, 0.250, 0.528, \n",
      "0.217, 0.256, 0.527, \n",
      "0.208, 0.247, 0.520, \n",
      "0.203, 0.244, 0.527, \n",
      "0.195, 0.245, 0.540, \n",
      "0.192, 0.238, 0.526, \n",
      "0.184, 0.234, 0.534, \n",
      "0.179, 0.238, 0.548, \n",
      "0.175, 0.236, 0.539, \n",
      "0.170, 0.239, 0.569, \n",
      "0.168, 0.236, 0.541, \n",
      "0.163, 0.232, 0.558, \n",
      "0.160, 0.231, 0.558, \n",
      "0.155, 0.229, 0.563, \n",
      "0.152, 0.229, 0.569, \n",
      "0.150, 0.230, 0.580, \n",
      "0.145, 0.235, 0.579, \n",
      "0.142, 0.231, 0.575, \n",
      "0.139, 0.238, 0.569, \n",
      "0.137, 0.244, 0.580, \n"
     ]
    }
   ],
   "source": [
    "import datetime\n",
    "from time import time\n",
    "\n",
    "optimizer = optim.Adam(model.net.parameters(), lr=1e-4)\n",
    "\n",
    "train_errors = []\n",
    "test_errors = []\n",
    "aucs = []\n",
    "\n",
    "print(datetime.datetime.now())\n",
    "s = time()\n",
    "model.train(nn.CrossEntropyLoss(), batch_size=128, optimizer=optimizer, epochs = epochs, verbose = False, early_stop_loss_threshold=-1)\n",
    "print(\"\\tTime:\", time() - s, '\\t', datetime.datetime.now())\n",
    "print({'train_errors': model.train_errors, 'test_errors': model.test_errors, 'aucs': model.aucs})\n",
    "print()"
   ]
  },
  {
   "cell_type": "code",
   "execution_count": 0,
   "metadata": {
    "button": false,
    "colab": {},
    "colab_type": "code",
    "collapsed": true,
    "deletable": true,
    "id": "H1JpDL_AnivL",
    "new_sheet": false,
    "run_control": {
     "read_only": false
    }
   },
   "outputs": [],
   "source": []
  }
 ],
 "metadata": {
  "accelerator": "GPU",
  "colab": {
   "name": "Untitled3.ipynb",
   "provenance": []
  },
  "kernelspec": {
   "display_name": "Python 3",
   "language": "python",
   "name": "python3"
  },
  "language_info": {
   "codemirror_mode": {
    "name": "ipython",
    "version": 3
   },
   "file_extension": ".py",
   "mimetype": "text/x-python",
   "name": "python",
   "nbconvert_exporter": "python",
   "pygments_lexer": "ipython3",
   "version": "3.5.0"
  }
 },
 "nbformat": 4,
 "nbformat_minor": 0
}
