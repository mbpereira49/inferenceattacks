{
 "cells": [
  {
   "cell_type": "code",
   "execution_count": 1,
   "metadata": {},
   "outputs": [],
   "source": [
    "import pandas as pd\n",
    "from sklearn.cluster import KMeans\n",
    "from sklearn.model_selection import train_test_split"
   ]
  },
  {
   "cell_type": "code",
   "execution_count": 2,
   "metadata": {},
   "outputs": [],
   "source": [
    "transactions = pd.read_csv('data/purchase/transactions.csv', nrows=5e7)\n",
    "transactions = transactions[['id', 'dept', 'category']]\n",
    "\n",
    "item_groups = transactions.groupby(['dept', 'category'])\n",
    "id_groups = transactions.groupby('id')\n",
    "items = item_groups.groups.keys()"
   ]
  },
  {
   "cell_type": "code",
   "execution_count": 3,
   "metadata": {},
   "outputs": [],
   "source": [
    "def binarize(df):\n",
    "    vals = pd.Series(0, index = pd.Index(items, tupleize_cols = False))\n",
    "    for row in df.itertuples(index = False):\n",
    "        vals[row] = 1\n",
    "    return vals\n",
    "\n",
    "df = id_groups.apply(binarize)"
   ]
  },
  {
   "cell_type": "code",
   "execution_count": 5,
   "metadata": {},
   "outputs": [],
   "source": [
    "classes = [2, 10, 20, 50, 100]\n",
    "\n",
    "purchase = {n : KMeans(n, random_state = 0).fit_predict(df) for n in classes}\n",
    "labels = pd.DataFrame(purchase, index = df.index)"
   ]
  },
  {
   "cell_type": "code",
   "execution_count": 6,
   "metadata": {},
   "outputs": [],
   "source": [
    "df.to_csv('df.csv')\n",
    "labels.to_csv('labels.csv')\n",
    "\n",
    "# To read back in these DataFrames, run:\n",
    "    # df = pd.read_csv('df.csv', index_col = 0)\n",
    "    # labels = pd.read_csv('labels.csv', index_col = 0)"
   ]
  },
  {
   "cell_type": "code",
   "execution_count": null,
   "metadata": {},
   "outputs": [],
   "source": []
  }
 ],
 "metadata": {
  "kernelspec": {
   "display_name": "Python 3",
   "language": "python",
   "name": "python3"
  },
  "language_info": {
   "codemirror_mode": {
    "name": "ipython",
    "version": 3
   },
   "file_extension": ".py",
   "mimetype": "text/x-python",
   "name": "python",
   "nbconvert_exporter": "python",
   "pygments_lexer": "ipython3",
   "version": "3.7.4"
  }
 },
 "nbformat": 4,
 "nbformat_minor": 2
}
