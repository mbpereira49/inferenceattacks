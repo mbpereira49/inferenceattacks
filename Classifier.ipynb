{
 "cells": [
  {
   "cell_type": "code",
   "execution_count": 1,
   "metadata": {
    "button": false,
    "new_sheet": false,
    "run_control": {
     "read_only": false
    }
   },
   "outputs": [],
   "source": [
    "import pandas as pd\n",
    "from sklearn.cluster import KMeans\n",
    "import numpy as np\n",
    "\n",
    "import torch\n",
    "from torch.autograd import Variable\n",
    "import torch.nn as nn\n",
    "import torch.nn.functional as F\n",
    "import torch.optim as optim\n",
    "\n",
    "from sklearn.metrics import roc_auc_score\n",
    "from sklearn.model_selection import train_test_split"
   ]
  },
  {
   "cell_type": "code",
   "execution_count": 2,
   "metadata": {
    "button": false,
    "new_sheet": false,
    "run_control": {
     "read_only": false
    }
   },
   "outputs": [],
   "source": [
    "transactions = pd.read_csv('data/purchase/transactions.csv', nrows=5e7)\n",
    "transactions = transactions[['id', 'dept', 'category']]"
   ]
  },
  {
   "cell_type": "code",
   "execution_count": 3,
   "metadata": {
    "button": false,
    "new_sheet": false,
    "run_control": {
     "read_only": false
    }
   },
   "outputs": [],
   "source": [
    "item_groups = transactions.groupby(['dept', 'category'])\n",
    "id_groups = transactions.groupby('id')\n",
    "items = item_groups.groups.keys()"
   ]
  },
  {
   "cell_type": "code",
   "execution_count": 4,
   "metadata": {
    "button": false,
    "new_sheet": false,
    "run_control": {
     "read_only": false
    }
   },
   "outputs": [],
   "source": [
    "def binarize(df):\n",
    "    vals = pd.Series(0, index = pd.Index(items, tupleize_cols = False))\n",
    "    for row in df.itertuples(index = False):\n",
    "        vals[row] = 1\n",
    "    return vals\n",
    "df = id_groups.apply(binarize)\n",
    "train, test = train_test_split(df.values, train_size = 8000, test_size = 2000)"
   ]
  },
  {
   "cell_type": "code",
   "execution_count": null,
   "metadata": {},
   "outputs": [],
   "source": [
    "device = torch.device(\"cuda\" if torch.cuda.is_available() else \"cpu\")"
   ]
  },
  {
   "cell_type": "code",
   "execution_count": 9,
   "metadata": {
    "button": false,
    "new_sheet": false,
    "run_control": {
     "read_only": false
    }
   },
   "outputs": [],
   "source": [
    "purchase_2 = KMeans(2, random_state = 0).fit_predict(train)\n",
    "purchase_10 = KMeans(10, random_state = 0).fit_predict(train)\n",
    "purchase_20 = KMeans(20, random_state = 0).fit_predict(train)\n",
    "purchase_50 = KMeans(50, random_state = 0).fit_predict(train)\n",
    "purchase_100 = KMeans(100, random_state = 0).fit_predict(train)"
   ]
  },
  {
   "cell_type": "code",
   "execution_count": 10,
   "metadata": {},
   "outputs": [],
   "source": [
    "def train_model(features, labels, epochs):\n",
    "    input_dim = features.shape[1]\n",
    "    output_dim = len(np.unique(labels))\n",
    "    \n",
    "    # make model\n",
    "    torch.manual_seed(0)\n",
    "    class Net(nn.Module):\n",
    "        def __init__(self, input_dim, output_dim):\n",
    "            super(Net, self).__init__()\n",
    "            # an affine operation: y = Wx + b\n",
    "            self.fc1 = nn.Linear(input_dim, 1024)\n",
    "            self.fc2 = nn.Linear(1024, 1024)\n",
    "            self.fc3 = nn.Linear(1024, 512)\n",
    "            self.fc4 = nn.Linear(512, 512)\n",
    "            self.fc5 = nn.Linear(512, 512)\n",
    "            self.fc6 = nn.Linear(512, output_dim)\n",
    "            self.softmax = nn.LogSoftmax(dim=-1)\n",
    "\n",
    "        def forward(self, x):\n",
    "            # Max pooling over a (2, 2) window\n",
    "            x = F.relu(self.fc1(x))\n",
    "            x = F.relu(self.fc2(x))\n",
    "            x = F.relu(self.fc3(x))\n",
    "            x = F.relu(self.fc4(x))\n",
    "            x = F.relu(self.fc5(x))\n",
    "            x = self.softmax(self.fc6(x))\n",
    "            return x\n",
    "    \n",
    "    net = Net(input_dim, output_dim)\n",
    "    net.to(device)\n",
    "    \n",
    "    criterion = nn.NLLLoss()\n",
    "    optimizer = optim.Adam(net.parameters())\n",
    "    \n",
    "    labels = torch.Tensor(labels)\n",
    "    \n",
    "    # train model\n",
    "    for epoch in range(epochs):  # loop over the dataset multiple times\n",
    "        running_loss = 0.0\n",
    "        for i, (inputs, label) in enumerate(zip(torch.Tensor(features), labels), 0):\n",
    "            inputs = inputs.to(device)\n",
    "            label = label.to(device)\n",
    "            \n",
    "            # zero the parameter gradients\n",
    "            optimizer.zero_grad()\n",
    "\n",
    "            # forward + backward + optimize\n",
    "            outputs = net(inputs)\n",
    "            loss = criterion(outputs.reshape(1,-1), label.reshape(-1).long())\n",
    "            loss.backward()\n",
    "            optimizer.step()\n",
    "            running_loss += loss.item()\n",
    "\n",
    "        print('[%d, %5d] loss: %.3f' %\n",
    "                      (epoch + 1, i + 1, running_loss / features.shape[0]))\n",
    "\n",
    "    print('Finished Training')\n",
    "    \n",
    "    return net"
   ]
  },
  {
   "cell_type": "code",
   "execution_count": 11,
   "metadata": {
    "scrolled": true
   },
   "outputs": [
    {
     "name": "stdout",
     "output_type": "stream",
     "text": [
      "[1,  8000] loss: 0.457\n",
      "[2,  8000] loss: 0.236\n",
      "[3,  8000] loss: 0.169\n",
      "[4,  8000] loss: 0.141\n",
      "[5,  8000] loss: 0.122\n",
      "[6,  8000] loss: 0.116\n",
      "[7,  8000] loss: 0.158\n",
      "[8,  8000] loss: 0.070\n",
      "[9,  8000] loss: 0.048\n",
      "[10,  8000] loss: 0.147\n",
      "[11,  8000] loss: 0.040\n",
      "[12,  8000] loss: 0.041\n",
      "[13,  8000] loss: 0.045\n",
      "[14,  8000] loss: 0.061\n",
      "[15,  8000] loss: 0.042\n",
      "Finished Training\n",
      "[1,  8000] loss: 1.498\n",
      "[2,  8000] loss: 1.004\n",
      "[3,  8000] loss: 0.710\n",
      "[4,  8000] loss: 0.508\n",
      "[5,  8000] loss: 0.443\n",
      "[6,  8000] loss: 0.345\n",
      "[7,  8000] loss: 0.288\n",
      "[8,  8000] loss: 0.281\n",
      "[9,  8000] loss: 0.242\n",
      "[10,  8000] loss: 0.224\n",
      "[11,  8000] loss: 0.197\n",
      "[12,  8000] loss: 0.177\n",
      "[13,  8000] loss: 0.207\n",
      "[14,  8000] loss: 0.144\n",
      "[15,  8000] loss: 0.155\n",
      "Finished Training\n",
      "[1,  8000] loss: 2.226\n",
      "[2,  8000] loss: 1.947\n",
      "[3,  8000] loss: 1.869\n",
      "[4,  8000] loss: 1.798\n",
      "[5,  8000] loss: 1.714\n",
      "[6,  8000] loss: 1.645\n",
      "[7,  8000] loss: 1.584\n",
      "[8,  8000] loss: 1.537\n",
      "[9,  8000] loss: 1.475\n",
      "[10,  8000] loss: 1.483\n",
      "[11,  8000] loss: 1.443\n",
      "[12,  8000] loss: 1.395\n",
      "[13,  8000] loss: 1.165\n",
      "[14,  8000] loss: 0.981\n",
      "[15,  8000] loss: 0.946\n",
      "Finished Training\n",
      "[1,  8000] loss: 3.048\n",
      "[2,  8000] loss: 2.584\n",
      "[3,  8000] loss: 2.218\n",
      "[4,  8000] loss: 2.095\n",
      "[5,  8000] loss: 1.949\n",
      "[6,  8000] loss: 1.854\n",
      "[7,  8000] loss: 1.714\n",
      "[8,  8000] loss: 1.608\n",
      "[9,  8000] loss: 1.537\n",
      "[10,  8000] loss: 1.384\n",
      "[11,  8000] loss: 1.122\n",
      "[12,  8000] loss: 1.027\n",
      "[13,  8000] loss: 0.956\n",
      "[14,  8000] loss: 0.865\n",
      "[15,  8000] loss: 0.791\n",
      "Finished Training\n",
      "[1,  8000] loss: 3.794\n",
      "[2,  8000] loss: 3.378\n",
      "[3,  8000] loss: 3.267\n",
      "[4,  8000] loss: 3.202\n",
      "[5,  8000] loss: 3.143\n",
      "[6,  8000] loss: 3.068\n",
      "[7,  8000] loss: 3.012\n",
      "[8,  8000] loss: 2.973\n",
      "[9,  8000] loss: 2.905\n",
      "[10,  8000] loss: 2.879\n",
      "[11,  8000] loss: 2.836\n",
      "[12,  8000] loss: 2.804\n",
      "[13,  8000] loss: 2.788\n",
      "[14,  8000] loss: 2.735\n",
      "[15,  8000] loss: 2.712\n",
      "Finished Training\n"
     ]
    }
   ],
   "source": [
    "net_2 = train_model(train, purchase_2, 15)\n",
    "net_10 = train_model(train, purchase_10, 15)\n",
    "net_20 = train_model(train, purchase_20, 15)\n",
    "net_50 = train_model(train, purchase_50, 15)\n",
    "net_100 = train_model(train, purchase_100, 15)"
   ]
  },
  {
   "cell_type": "code",
   "execution_count": 12,
   "metadata": {},
   "outputs": [],
   "source": [
    "def auc(model, train, test, sample_size):\n",
    "    train_sample = train[np.random.choice(train.shape[0], size = sample_size)]\n",
    "    test_sample = test[np.random.choice(test.shape[0], size = sample_size)]\n",
    "    train_confidence = torch.max(torch.exp(model(torch.Tensor(train_sample)).detach()), axis=1)[0]\n",
    "    test_confidence = torch.max(torch.exp(model(torch.Tensor(test_sample)).detach()), axis=1)[0]\n",
    "    \n",
    "    actual = [1 for i in range(sample_size)] + [0 for i in range(sample_size)]\n",
    "    estimated = torch.cat([train_confidence, test_confidence])\n",
    "    return roc_auc_score(torch.Tensor(actual), estimated)"
   ]
  },
  {
   "cell_type": "code",
   "execution_count": 13,
   "metadata": {},
   "outputs": [],
   "source": [
    "auc_2 = auc(net_2, train, test, 1000)\n",
    "auc_10 = auc(net_10, train, test, 1000)\n",
    "auc_20 = auc(net_20, train, test, 1000)\n",
    "auc_50 = auc(net_50, train, test, 1000)\n",
    "auc_100 = auc(net_100, train, test, 1000)"
   ]
  },
  {
   "cell_type": "code",
   "execution_count": 14,
   "metadata": {},
   "outputs": [
    {
     "name": "stdout",
     "output_type": "stream",
     "text": [
      "0.5497479999999999\n",
      "0.6209025\n",
      "0.5340335\n",
      "0.5563750000000001\n",
      "0.5000855\n"
     ]
    }
   ],
   "source": [
    "print(auc_2)\n",
    "print(auc_10)\n",
    "print(auc_20)\n",
    "print(auc_50)\n",
    "print(auc_100)"
   ]
  },
  {
   "cell_type": "code",
   "execution_count": null,
   "metadata": {},
   "outputs": [],
   "source": [
    "def hamming(s1, s2)"
   ]
  }
 ],
 "metadata": {
  "kernelspec": {
   "display_name": "Python 3",
   "language": "python",
   "name": "python3"
  },
  "language_info": {
   "codemirror_mode": {
    "name": "ipython",
    "version": 3
   },
   "file_extension": ".py",
   "mimetype": "text/x-python",
   "name": "python",
   "nbconvert_exporter": "python",
   "pygments_lexer": "ipython3",
   "version": "3.7.3"
  }
 },
 "nbformat": 4,
 "nbformat_minor": 2
}
