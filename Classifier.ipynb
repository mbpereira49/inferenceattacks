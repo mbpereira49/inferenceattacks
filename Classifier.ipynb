{
 "cells": [
  {
   "cell_type": "code",
   "execution_count": 36,
   "metadata": {
    "button": false,
    "new_sheet": false,
    "run_control": {
     "read_only": false
    }
   },
   "outputs": [],
   "source": [
    "import pandas as pd\n",
    "from sklearn.cluster import KMeans\n",
    "import numpy as np\n",
    "\n",
    "import torch\n",
    "from torch.autograd import Variable\n",
    "import torch.nn as nn\n",
    "import torch.nn.functional as F\n",
    "import torch.optim as optim\n",
    "\n",
    "from sklearn.metrics roc_auc_score\n",
    "from sklearn.model_selection import train_test_split"
   ]
  },
  {
   "cell_type": "code",
   "execution_count": 3,
   "metadata": {
    "button": false,
    "new_sheet": false,
    "run_control": {
     "read_only": false
    }
   },
   "outputs": [],
   "source": [
    "transactions = pd.read_csv('data/purchase/transactions.csv', nrows= 4e5) #5e7)\n",
    "transactions = transactions[['id', 'dept', 'category']]"
   ]
  },
  {
   "cell_type": "code",
   "execution_count": 4,
   "metadata": {
    "button": false,
    "new_sheet": false,
    "run_control": {
     "read_only": false
    }
   },
   "outputs": [],
   "source": [
    "item_groups = transactions.groupby(['dept', 'category'])\n",
    "id_groups = transactions.groupby('id')\n",
    "items = item_groups.groups.keys()"
   ]
  },
  {
   "cell_type": "code",
   "execution_count": 40,
   "metadata": {
    "button": false,
    "new_sheet": false,
    "run_control": {
     "read_only": false
    }
   },
   "outputs": [],
   "source": [
    "def binarize(df):\n",
    "    vals = pd.Series(0, index = pd.Index(items, tupleize_cols = False))\n",
    "    for row in df.itertuples(index = False):\n",
    "        vals[row] = 1\n",
    "    return vals\n",
    "df = id_groups.apply(binarize)\n",
    "train, test = train_test_split(df.values, train_size = 0.8)"
   ]
  },
  {
   "cell_type": "code",
   "execution_count": 41,
   "metadata": {
    "button": false,
    "new_sheet": false,
    "run_control": {
     "read_only": false
    }
   },
   "outputs": [],
   "source": [
    "purchase_2 = KMeans(2, random_state = 0).fit_predict(train)\n",
    "purchase_10 = KMeans(10, random_state = 0).fit_predict(train)\n",
    "purchase_20 = KMeans(20, random_state = 0).fit_predict(train)\n",
    "purchase_50 = KMeans(50, random_state = 0).fit_predict(train)\n",
    "purchase_100 = KMeans(100, random_state = 0).fit_predict(train)"
   ]
  },
  {
   "cell_type": "code",
   "execution_count": 48,
   "metadata": {},
   "outputs": [],
   "source": [
    "def train_model(features, labels, epochs):\n",
    "    input_dim = features.shape[1]\n",
    "    output_dim = len(np.unique(labels))\n",
    "    \n",
    "    # make model\n",
    "    torch.manual_seed(0)\n",
    "    class Net(nn.Module):\n",
    "        def __init__(self, input_dim, output_dim):\n",
    "            super(Net, self).__init__()\n",
    "            # an affine operation: y = Wx + b\n",
    "            self.fc1 = nn.Linear(input_dim, 1024)\n",
    "            self.fc2 = nn.Linear(1024, 1024)\n",
    "            self.fc3 = nn.Linear(1024, 512)\n",
    "            self.fc4 = nn.Linear(512, 512)\n",
    "            self.fc5 = nn.Linear(512, 512)\n",
    "            self.fc6 = nn.Linear(512, output_dim)\n",
    "            self.softmax = nn.LogSoftmax(dim=-1)\n",
    "\n",
    "        def forward(self, x):\n",
    "            # Max pooling over a (2, 2) window\n",
    "            x = F.relu(self.fc1(x))\n",
    "            x = F.relu(self.fc2(x))\n",
    "            x = F.relu(self.fc3(x))\n",
    "            x = F.relu(self.fc4(x))\n",
    "            x = F.relu(self.fc5(x))\n",
    "            x = self.softmax(self.fc6(x))\n",
    "            return x\n",
    "    \n",
    "    net = Net(input_dim, output_dim)\n",
    "    \n",
    "    criterion = nn.NLLLoss()\n",
    "    optimizer = optim.Adam(net.parameters())\n",
    "    \n",
    "    labels = torch.Tensor(labels)\n",
    "    \n",
    "    # train model\n",
    "    for epoch in range(epochs):  # loop over the dataset multiple times\n",
    "        running_loss = 0.0\n",
    "        for i, (inputs, label) in enumerate(zip(torch.Tensor(features), labels), 0):\n",
    "            # zero the parameter gradients\n",
    "            optimizer.zero_grad()\n",
    "\n",
    "            # forward + backward + optimize\n",
    "            outputs = net(inputs)\n",
    "            loss = criterion(outputs.reshape(1,-1), label.reshape(-1).long())\n",
    "            loss.backward()\n",
    "            optimizer.step()\n",
    "            running_loss += loss.item()\n",
    "\n",
    "        print('[%d, %5d] loss: %.3f' %\n",
    "                      (epoch + 1, i + 1, running_loss / features.shape[0]))\n",
    "\n",
    "    print('Finished Training')\n",
    "    \n",
    "    return net"
   ]
  },
  {
   "cell_type": "code",
   "execution_count": 49,
   "metadata": {
    "scrolled": true
   },
   "outputs": [
    {
     "name": "stdout",
     "output_type": "stream",
     "text": [
      "[1,   321] loss: 0.658\n",
      "[2,   321] loss: 0.620\n",
      "[3,   321] loss: 0.607\n",
      "[4,   321] loss: 0.339\n",
      "[5,   321] loss: 0.412\n",
      "[6,   321] loss: 0.320\n",
      "[7,   321] loss: 0.170\n",
      "[8,   321] loss: 0.250\n",
      "[9,   321] loss: 0.151\n",
      "[10,   321] loss: 0.302\n",
      "[11,   321] loss: 0.042\n",
      "[12,   321] loss: 0.034\n",
      "[13,   321] loss: 0.011\n",
      "[14,   321] loss: 0.000\n",
      "[15,   321] loss: 0.000\n",
      "Finished Training\n"
     ]
    }
   ],
   "source": [
    "net = train_model(train, purchase_2, 15)"
   ]
  },
  {
   "cell_type": "code",
   "execution_count": 126,
   "metadata": {},
   "outputs": [],
   "source": [
    "def auc(model, train, test, sample_size):\n",
    "    train_sample = train[np.random.choice(train.shape[0], size = sample_size)]\n",
    "    test_sample = test[np.random.choice(test.shape[0], size = sample_size)]\n",
    "    train_confidence = torch.max(torch.exp(model(torch.Tensor(train_sample)).detach()), axis=1)[0]\n",
    "    test_confidence = torch.max(torch.exp(model(torch.Tensor(test_sample)).detach()), axis=1)[0]\n",
    "    \n",
    "    actual = [1 for i in range(sample_size)] + [0 for i in range(sample_size)]\n",
    "    estimated = torch.cat([train_confidence, test_confidence])\n",
    "    return roc_auc_score(torch.Tensor(actual), estimated)"
   ]
  },
  {
   "cell_type": "code",
   "execution_count": 127,
   "metadata": {},
   "outputs": [
    {
     "data": {
      "text/plain": [
       "0.6643"
      ]
     },
     "execution_count": 127,
     "metadata": {},
     "output_type": "execute_result"
    }
   ],
   "source": [
    "auc(net, train, test, 100)"
   ]
  },
  {
   "cell_type": "code",
   "execution_count": null,
   "metadata": {},
   "outputs": [],
   "source": []
  }
 ],
 "metadata": {
  "kernelspec": {
   "display_name": "Python 3",
   "language": "python",
   "name": "python3"
  },
  "language_info": {
   "codemirror_mode": {
    "name": "ipython",
    "version": 3
   },
   "file_extension": ".py",
   "mimetype": "text/x-python",
   "name": "python",
   "nbconvert_exporter": "python",
   "pygments_lexer": "ipython3",
   "version": "3.7.4"
  }
 },
 "nbformat": 4,
 "nbformat_minor": 2
}
