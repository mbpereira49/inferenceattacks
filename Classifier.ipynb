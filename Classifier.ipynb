{
 "cells": [
  {
   "cell_type": "code",
   "execution_count": 1,
   "metadata": {},
   "outputs": [],
   "source": [
    "import pandas as pd\n",
    "from sklearn.cluster import KMeans"
   ]
  },
  {
   "cell_type": "code",
   "execution_count": 2,
   "metadata": {},
   "outputs": [],
   "source": [
    "transactions = pd.read_csv('data/purchase/transactions.csv', nrows= 4e5) #5e7)\n",
    "transactions = transactions[['id', 'dept', 'category']]"
   ]
  },
  {
   "cell_type": "code",
   "execution_count": 3,
   "metadata": {},
   "outputs": [],
   "source": [
    "item_groups = transactions.groupby(['dept', 'category'])\n",
    "id_groups = transactions.groupby('id')\n",
    "items = item_groups.groups.keys()"
   ]
  },
  {
   "cell_type": "code",
   "execution_count": 4,
   "metadata": {},
   "outputs": [],
   "source": [
    "def binarize(df):\n",
    "    vals = pd.Series(0, index = pd.Index(items, tupleize_cols = False))\n",
    "    for row in df.itertuples(index = False):\n",
    "        vals[row] = 1\n",
    "    return vals\n",
    "df = id_groups.apply(binarize)"
   ]
  },
  {
   "cell_type": "code",
   "execution_count": 5,
   "metadata": {},
   "outputs": [],
   "source": [
    "purchase_2 = KMeans(2, random_state = 0).fit_predict(df)\n",
    "purchase_10 = KMeans(10, random_state = 0).fit_predict(df)\n",
    "purchase_20 = KMeans(20, random_state = 0).fit_predict(df)\n",
    "purchase_50 = KMeans(50, random_state = 0).fit_predict(df)\n",
    "purchase_100 = KMeans(100, random_state = 0).fit_predict(df)"
   ]
  },
  {
   "cell_type": "code",
   "execution_count": null,
   "metadata": {},
   "outputs": [],
   "source": []
  }
 ],
 "metadata": {
  "kernelspec": {
   "display_name": "Python 3",
   "language": "python",
   "name": "python3"
  },
  "language_info": {
   "codemirror_mode": {
    "name": "ipython",
    "version": 3
   },
   "file_extension": ".py",
   "mimetype": "text/x-python",
   "name": "python",
   "nbconvert_exporter": "python",
   "pygments_lexer": "ipython3",
   "version": "3.7.4"
  }
 },
 "nbformat": 4,
 "nbformat_minor": 2
}
