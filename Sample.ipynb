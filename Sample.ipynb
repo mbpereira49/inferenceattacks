{
  "nbformat": 4,
  "nbformat_minor": 0,
  "metadata": {
    "accelerator": "GPU",
    "colab": {
      "name": "Sample.ipynb",
      "provenance": [],
      "collapsed_sections": []
    },
    "kernelspec": {
      "name": "python3",
      "display_name": "Python 3"
    },
    "language_info": {
      "codemirror_mode": {
        "name": "ipython",
        "version": 3
      },
      "file_extension": ".py",
      "mimetype": "text/x-python",
      "name": "python",
      "nbconvert_exporter": "python",
      "pygments_lexer": "ipython3",
      "version": "3.7.4"
    }
  },
  "cells": [
    {
      "cell_type": "code",
      "metadata": {
        "colab_type": "code",
        "id": "Hv9Xq1P-FoCE",
        "colab": {}
      },
      "source": [
        "import pandas as pd\n",
        "import numpy as np\n",
        "\n",
        "import torch\n",
        "import torch.nn as nn\n",
        "import torch.nn.functional as F\n",
        "\n",
        "from sklearn.model_selection import train_test_split\n",
        "\n",
        "import pipeline\n",
        "#import importlib\n",
        "#importlib.reload(pipeline)"
      ],
      "execution_count": 0,
      "outputs": []
    },
    {
      "cell_type": "code",
      "metadata": {
        "colab_type": "code",
        "id": "IsWOwh3QFoCP",
        "colab": {}
      },
      "source": [
        "df = pd.read_csv('df.csv', index_col = 0)\n",
        "labels = pd.read_csv('labels.csv', index_col = 0)"
      ],
      "execution_count": 0,
      "outputs": []
    },
    {
      "cell_type": "code",
      "metadata": {
        "colab_type": "code",
        "id": "mqSh0_xyFoCV",
        "colab": {}
      },
      "source": [
        "class Net(nn.Module):\n",
        "    def __init__(self, input_dim, output_dim):\n",
        "        #torch.manual_seed(0)\n",
        "        super(Net, self).__init__()\n",
        "        # an affine operation: y = Wx + b\n",
        "        self.fc1 = nn.Linear(input_dim, 1024)\n",
        "        self.fc2 = nn.Linear(1024, 1024)\n",
        "        self.fc3 = nn.Linear(1024, 512)\n",
        "        self.fc4 = nn.Linear(512, 512)\n",
        "        self.fc5 = nn.Linear(512, 512)\n",
        "        self.fc6 = nn.Linear(512, output_dim)\n",
        "        self.softmax = nn.LogSoftmax(dim=-1)\n",
        "\n",
        "    def forward(self, x):\n",
        "        # Max pooling over a (2, 2) window\n",
        "        x = F.relu(self.fc1(x))\n",
        "        x = F.relu(self.fc2(x))\n",
        "        x = F.relu(self.fc3(x))\n",
        "        x = F.relu(self.fc4(x))\n",
        "        x = F.relu(self.fc5(x))\n",
        "        x = self.softmax(self.fc6(x))\n",
        "        return x"
      ],
      "execution_count": 0,
      "outputs": []
    },
    {
      "cell_type": "code",
      "metadata": {
        "colab_type": "code",
        "id": "cQ_KvyYkFoCg",
        "outputId": "1e3a8ab2-8335-4a68-dd15-1c29f16a287c",
        "scrolled": true,
        "colab": {
          "base_uri": "https://localhost:8080/",
          "height": 1000
        }
      },
      "source": [
        "models = {n_labels : pipeline.PurchaseModel(n_labels) for n_labels in [2, 10, 20, 50, 100]}\n",
        "_ = [model.load_data() for model in models.values()]\n",
        "_ = [model.build_net() for model in models.values()]\n",
        "_ = [model.train(nn.NLLLoss(), epochs = 250) for model in models.values()]"
      ],
      "execution_count": 61,
      "outputs": [
        {
          "output_type": "stream",
          "text": [
            "Loading 2-Purchase from GitHub: 0.2 train, 0.8 test.\n",
            "Loading 10-Purchase from GitHub: 0.2 train, 0.8 test.\n",
            "Loading 20-Purchase from GitHub: 0.2 train, 0.8 test.\n",
            "Loading 50-Purchase from GitHub: 0.2 train, 0.8 test.\n",
            "Loading 100-Purchase from GitHub: 0.2 train, 0.8 test.\n",
            "[0] loss: 7.933\n",
            "[5] loss: 5.346\n",
            "[10] loss: 7.001\n",
            "[15] loss: 0.049\n",
            "[20] loss: 0.000\n",
            "[25] loss: 0.001\n",
            "[30] loss: 0.000\n",
            "[35] loss: 0.000\n",
            "Terminated Early. 10 successive epochs all have 0 loss\n",
            "Finished Training\n",
            "[0] loss: 30.107\n",
            "[5] loss: 36.148\n",
            "[10] loss: 1.820\n",
            "[15] loss: 0.065\n",
            "[20] loss: 0.026\n",
            "[25] loss: 0.016\n",
            "[30] loss: 0.011\n",
            "[35] loss: 0.008\n",
            "[40] loss: 0.006\n",
            "[45] loss: 0.005\n",
            "[50] loss: 0.004\n",
            "[55] loss: 0.003\n",
            "[60] loss: 0.002\n",
            "[65] loss: 0.002\n",
            "[70] loss: 0.002\n",
            "[75] loss: 0.001\n",
            "[80] loss: 0.001\n",
            "[85] loss: 0.001\n",
            "[90] loss: 0.001\n",
            "[95] loss: 0.001\n",
            "[100] loss: 0.001\n",
            "[105] loss: 0.001\n",
            "[110] loss: 0.001\n",
            "[115] loss: 0.001\n",
            "[120] loss: 0.000\n",
            "[125] loss: 0.001\n",
            "[130] loss: 0.000\n",
            "[135] loss: 0.001\n",
            "[140] loss: 0.000\n",
            "[145] loss: 0.001\n",
            "[150] loss: 0.000\n",
            "[155] loss: 0.001\n",
            "[160] loss: 0.000\n",
            "[165] loss: 0.000\n",
            "Terminated Early. 10 successive epochs all have 0 loss\n",
            "Finished Training\n",
            "[0] loss: 41.471\n",
            "[5] loss: 78.233\n",
            "[10] loss: 13.818\n",
            "[15] loss: 0.706\n",
            "[20] loss: 0.075\n",
            "[25] loss: 0.040\n",
            "[30] loss: 0.027\n",
            "[35] loss: 0.019\n",
            "[40] loss: 0.014\n",
            "[45] loss: 0.010\n",
            "[50] loss: 0.008\n",
            "[55] loss: 0.006\n",
            "[60] loss: 0.005\n",
            "[65] loss: 0.004\n",
            "[70] loss: 0.003\n",
            "[75] loss: 0.003\n",
            "[80] loss: 0.002\n",
            "[85] loss: 0.002\n",
            "[90] loss: 0.002\n",
            "[95] loss: 0.002\n",
            "[100] loss: 0.001\n",
            "[105] loss: 0.001\n",
            "[110] loss: 0.001\n",
            "[115] loss: 0.001\n",
            "[120] loss: 0.001\n",
            "[125] loss: 0.001\n",
            "[130] loss: 0.001\n",
            "[135] loss: 0.001\n",
            "[140] loss: 0.001\n",
            "[145] loss: 0.001\n",
            "[150] loss: 0.000\n",
            "[155] loss: 0.001\n",
            "[160] loss: 0.000\n",
            "[165] loss: 0.001\n",
            "[170] loss: 0.000\n",
            "[175] loss: 0.001\n",
            "[180] loss: 0.000\n",
            "[185] loss: 0.001\n",
            "[190] loss: 0.000\n",
            "[195] loss: 0.000\n",
            "Terminated Early. 10 successive epochs all have 0 loss\n",
            "Finished Training\n",
            "[0] loss: 56.442\n",
            "[5] loss: 126.115\n",
            "[10] loss: 93.262\n",
            "[15] loss: 27.751\n",
            "[20] loss: 1.525\n",
            "[25] loss: 0.120\n",
            "[30] loss: 0.053\n",
            "[35] loss: 0.036\n",
            "[40] loss: 0.025\n",
            "[45] loss: 0.019\n",
            "[50] loss: 0.015\n",
            "[55] loss: 0.012\n",
            "[60] loss: 0.009\n",
            "[65] loss: 0.008\n",
            "[70] loss: 0.006\n",
            "[75] loss: 0.005\n",
            "[80] loss: 0.004\n",
            "[85] loss: 0.004\n",
            "[90] loss: 0.003\n",
            "[95] loss: 0.003\n",
            "[100] loss: 0.003\n",
            "[105] loss: 0.002\n",
            "[110] loss: 0.002\n",
            "[115] loss: 0.002\n",
            "[120] loss: 0.002\n",
            "[125] loss: 0.001\n",
            "[130] loss: 0.001\n",
            "[135] loss: 0.001\n",
            "[140] loss: 0.001\n",
            "[145] loss: 0.001\n",
            "[150] loss: 0.001\n",
            "[155] loss: 0.001\n",
            "[160] loss: 0.001\n",
            "[165] loss: 0.001\n",
            "[170] loss: 0.001\n",
            "[175] loss: 0.001\n",
            "[180] loss: 0.001\n",
            "[185] loss: 0.001\n",
            "[190] loss: 0.000\n",
            "[195] loss: 0.001\n",
            "[200] loss: 0.000\n",
            "[205] loss: 0.001\n",
            "[210] loss: 0.000\n",
            "[215] loss: 0.001\n",
            "[220] loss: 0.000\n",
            "[225] loss: 0.001\n",
            "[230] loss: 0.000\n",
            "[235] loss: 0.001\n",
            "[240] loss: 0.000\n",
            "[245] loss: 0.000\n",
            "Terminated Early. 10 successive epochs all have 0 loss\n",
            "Finished Training\n",
            "[0] loss: 67.180\n",
            "[5] loss: 210.030\n",
            "[10] loss: 86.056\n",
            "[15] loss: 44.850\n",
            "[20] loss: 4.412\n",
            "[25] loss: 0.289\n",
            "[30] loss: 0.244\n",
            "[35] loss: 0.040\n",
            "[40] loss: 0.027\n",
            "[45] loss: 0.020\n",
            "[50] loss: 0.015\n",
            "[55] loss: 0.012\n",
            "[60] loss: 0.010\n",
            "[65] loss: 0.008\n",
            "[70] loss: 0.006\n",
            "[75] loss: 0.005\n",
            "[80] loss: 0.005\n",
            "[85] loss: 0.004\n",
            "[90] loss: 0.004\n",
            "[95] loss: 0.003\n",
            "[100] loss: 0.003\n",
            "[105] loss: 0.003\n",
            "[110] loss: 0.002\n",
            "[115] loss: 0.002\n",
            "[120] loss: 0.002\n",
            "[125] loss: 0.002\n",
            "[130] loss: 0.002\n",
            "[135] loss: 0.001\n",
            "[140] loss: 0.001\n",
            "[145] loss: 0.001\n",
            "[150] loss: 0.001\n",
            "[155] loss: 0.001\n",
            "[160] loss: 0.001\n",
            "[165] loss: 0.001\n",
            "[170] loss: 0.001\n",
            "[175] loss: 0.001\n",
            "[180] loss: 0.001\n",
            "[185] loss: 0.001\n",
            "[190] loss: 0.001\n",
            "[195] loss: 0.001\n",
            "[200] loss: 0.001\n",
            "[205] loss: 0.001\n",
            "[210] loss: 0.000\n",
            "[215] loss: 0.001\n",
            "[220] loss: 0.000\n",
            "[225] loss: 0.001\n",
            "[230] loss: 0.000\n",
            "[235] loss: 0.001\n",
            "[240] loss: 0.000\n",
            "[245] loss: 0.001\n",
            "Finished Training\n"
          ],
          "name": "stdout"
        }
      ]
    },
    {
      "cell_type": "code",
      "metadata": {
        "colab_type": "code",
        "id": "agzSKd6bHh-0",
        "colab": {}
      },
      "source": [
        "aucs = {n_labels : model.auc() for n_labels, model in models.items()}"
      ],
      "execution_count": 0,
      "outputs": []
    },
    {
      "cell_type": "code",
      "metadata": {
        "id": "jtJCOagKwkKc",
        "colab_type": "code",
        "colab": {}
      },
      "source": [
        "# compute hamming distance from point to set\n",
        "def ham_set(p, t):\n",
        "    p = p.transpose()\n",
        "    n1 = np.matmul(t, p)\n",
        "    n0 = np.matmul(1 - t, 1 - p)\n",
        "    return len(p) - np.amax(n1 + n0, axis=0)"
      ],
      "execution_count": 0,
      "outputs": []
    },
    {
      "cell_type": "code",
      "metadata": {
        "id": "JUwn8lHrwkKg",
        "colab_type": "code",
        "colab": {}
      },
      "source": [
        "by_distance = {n_labels : model.auc_by_distance(ham_set, 3) for n_labels, model in models.items()}"
      ],
      "execution_count": 0,
      "outputs": []
    },
    {
      "cell_type": "code",
      "metadata": {
        "id": "Z8ZWzddEwkKl",
        "colab_type": "code",
        "outputId": "9493620c-47a1-4d8d-add6-d29bc382628f",
        "colab": {
          "base_uri": "https://localhost:8080/",
          "height": 265
        }
      },
      "source": [
        "import matplotlib.pyplot as plt\n",
        "for n_labels, pair in by_distance.items():\n",
        "    keys, aucs = pair\n",
        "    plt.plot(keys, aucs, label = n_labels)\n",
        "plt.legend(loc = 'lower right')\n",
        "plt.xlim(25, 200)\n",
        "plt.show()"
      ],
      "execution_count": 64,
      "outputs": [
        {
          "output_type": "display_data",
          "data": {
            "image/png": "[encoded data removed]",
            "text/plain": [
              "<Figure size 432x288 with 1 Axes>"
            ]
          },
          "metadata": {
            "tags": []
          }
        }
      ]
    },
    {
      "cell_type": "code",
      "metadata": {
        "id": "ZrVOLCL7O3gl",
        "colab_type": "code",
        "colab": {}
      },
      "source": [
        ""
      ],
      "execution_count": 0,
      "outputs": []
    }
  ]
}